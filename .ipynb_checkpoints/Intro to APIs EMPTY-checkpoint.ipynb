{
 "cells": [
  {
   "cell_type": "markdown",
   "id": "7196054f",
   "metadata": {},
   "source": [
    "# Working with APIs"
   ]
  },
  {
   "cell_type": "markdown",
   "id": "0547b71e",
   "metadata": {},
   "source": [
    "API stands for Application programming interface<br>\n",
    "APIs are a way for applications to talk to eachother<br>\n",
    "In python we use the requests package to handle the connection<br>\n",
    "<small><strong>Note: It is requests with an s not request(this is a different package)</strong></small><br>\n",
    "Most API's communicate with data in the form of JSON<br>\n",
    "JSON stands for JavaScript Object Notation"
   ]
  },
  {
   "cell_type": "code",
   "execution_count": 1,
   "id": "4db9d154",
   "metadata": {},
   "outputs": [],
   "source": [
    "#import the packages we need:\n"
   ]
  },
  {
   "cell_type": "markdown",
   "id": "e8c2ce51",
   "metadata": {},
   "source": [
    "We will be connecting to the Ergast F1 Racer API today:\n",
    "http://ergast.com/mrd/\n",
    "\n",
    "to view JSON data nicely in the Chrome browser install the extension JSONview"
   ]
  },
  {
   "cell_type": "code",
   "execution_count": null,
   "id": "52c440c6",
   "metadata": {},
   "outputs": [],
   "source": []
  },
  {
   "cell_type": "code",
   "execution_count": null,
   "id": "f60c1b4a",
   "metadata": {},
   "outputs": [],
   "source": []
  },
  {
   "cell_type": "code",
   "execution_count": 2,
   "id": "7b63a204",
   "metadata": {},
   "outputs": [],
   "source": [
    "#response object\n"
   ]
  },
  {
   "cell_type": "code",
   "execution_count": 3,
   "id": "c6d1fdaf",
   "metadata": {},
   "outputs": [],
   "source": [
    "#check and make sure we got a successful response from the API\n"
   ]
  },
  {
   "cell_type": "code",
   "execution_count": 4,
   "id": "ed4d3256",
   "metadata": {},
   "outputs": [],
   "source": [
    "#view the response as a JSON\n"
   ]
  },
  {
   "cell_type": "code",
   "execution_count": null,
   "id": "92e6cd2c",
   "metadata": {},
   "outputs": [],
   "source": []
  },
  {
   "cell_type": "code",
   "execution_count": 5,
   "id": "f074dfcf",
   "metadata": {},
   "outputs": [],
   "source": [
    "# We only want the Driver Standings\n"
   ]
  },
  {
   "cell_type": "code",
   "execution_count": null,
   "id": "be46a950",
   "metadata": {},
   "outputs": [],
   "source": []
  },
  {
   "cell_type": "code",
   "execution_count": null,
   "id": "3740c752",
   "metadata": {},
   "outputs": [],
   "source": []
  },
  {
   "cell_type": "markdown",
   "id": "6d546014",
   "metadata": {},
   "source": [
    "# <strong>Homework</strong>\n",
    "check out this Pokemon API https://pokeapi.co/\n",
    "Use the requests package to connect to this API and get and store data for 5 different pokemon.\n",
    "Get the pokemons: name, atleast one ability's name, base_experience, and the URL for its sprite (an image that shows up on screen) for the 'front_shiny', attack base_state, hp base_stat, defense base_stat"
   ]
  },
  {
   "cell_type": "code",
   "execution_count": 1,
   "id": "5a9081e3",
   "metadata": {},
   "outputs": [
    {
     "name": "stdout",
     "output_type": "stream",
     "text": [
      "{'name': 'Charizard', 'ability': 'Blaze', 'base_experience': 267, 'sprite': 'https://raw.githubusercontent.com/PokeAPI/sprites/master/sprites/pokemon/shiny/6.png', 'ATK_base': 84, 'HP_base': 78, 'DEF_base': 78}\n",
      "{'name': 'Blaziken', 'ability': 'Blaze', 'base_experience': 265, 'sprite': 'https://raw.githubusercontent.com/PokeAPI/sprites/master/sprites/pokemon/shiny/257.png', 'ATK_base': 120, 'HP_base': 80, 'DEF_base': 70}\n",
      "{'name': 'Luxray', 'ability': 'Rivalry', 'base_experience': 262, 'sprite': 'https://raw.githubusercontent.com/PokeAPI/sprites/master/sprites/pokemon/shiny/405.png', 'ATK_base': 120, 'HP_base': 80, 'DEF_base': 79}\n",
      "{'name': 'Sylveon', 'ability': 'Cute-Charm', 'base_experience': 184, 'sprite': 'https://raw.githubusercontent.com/PokeAPI/sprites/master/sprites/pokemon/shiny/700.png', 'ATK_base': 65, 'HP_base': 95, 'DEF_base': 65}\n",
      "{'name': 'Clodsire', 'ability': 'Poison-Point', 'base_experience': None, 'sprite': 'https://raw.githubusercontent.com/PokeAPI/sprites/master/sprites/pokemon/shiny/980.png', 'ATK_base': 75, 'HP_base': 130, 'DEF_base': 60}\n",
      "{'name': 'Blastoise', 'ability': 'Torrent', 'base_experience': 265, 'sprite': 'https://raw.githubusercontent.com/PokeAPI/sprites/master/sprites/pokemon/shiny/9.png', 'ATK_base': 83, 'HP_base': 79, 'DEF_base': 100}\n",
      "{'name': 'Giratina-Altered', 'ability': 'Pressure', 'base_experience': 340, 'sprite': 'https://raw.githubusercontent.com/PokeAPI/sprites/master/sprites/pokemon/shiny/487.png', 'ATK_base': 100, 'HP_base': 150, 'DEF_base': 120}\n"
     ]
    }
   ],
   "source": [
    "import requests\n",
    "\n",
    "\n",
    "def poke_data(name):\n",
    "    url = f'https://pokeapi.co/api/v2/pokemon/{name}'\n",
    "    response = requests.get(url)\n",
    "    data = response.json()\n",
    "    try:\n",
    "        poke_dict = {\n",
    "            'name': data['forms'][0]['name'].title(),\n",
    "            'ability': data['abilities'][0]['ability']['name'].title(),\n",
    "            'base_experience': data['base_experience'],\n",
    "            'sprite': data['sprites']['front_shiny'],\n",
    "            'ATK_base': data['stats'][1]['base_stat'],\n",
    "            'HP_base': data['stats'][0]['base_stat'],\n",
    "            'DEF_base': data['stats'][2]['base_stat']\n",
    "        }\n",
    "        return poke_dict\n",
    "    except IndexError:\n",
    "        return 'Please enter a valid poke name (or number)'\n",
    "\n",
    "# make a list of 5 pokemon\n",
    "poke_names = ['6', '257', '405', '700', '980', '9', '487']\n",
    "\n",
    "#use a for loop to insert them as endpoints into the url\n",
    "#call the function inside the loop\n",
    "#print the loop so we can see the results\n",
    "for name in poke_names:\n",
    "    print(poke_data(name))"
   ]
  },
  {
   "cell_type": "code",
   "execution_count": null,
   "id": "0d0b52b1",
   "metadata": {},
   "outputs": [],
   "source": []
  }
 ],
 "metadata": {
  "kernelspec": {
   "display_name": "Python 3 (ipykernel)",
   "language": "python",
   "name": "python3"
  },
  "language_info": {
   "codemirror_mode": {
    "name": "ipython",
    "version": 3
   },
   "file_extension": ".py",
   "mimetype": "text/x-python",
   "name": "python",
   "nbconvert_exporter": "python",
   "pygments_lexer": "ipython3",
   "version": "3.11.5"
  }
 },
 "nbformat": 4,
 "nbformat_minor": 5
}
